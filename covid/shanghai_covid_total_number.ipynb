{
 "cells": [
  {
   "cell_type": "code",
   "execution_count": 514,
   "metadata": {},
   "outputs": [],
   "source": [
    "# import library\n",
    "import requests\n",
    "import re\n",
    "from bs4 import BeautifulSoup\n",
    "import pandas as pd\n",
    "import numpy as np\n",
    "from datetime import datetime\n",
    "import pytz\n",
    "import os\n",
    "import plotly.express as px\n",
    "import geopandas as gpd\n",
    "import folium\n",
    "import branca\n",
    "from tqdm.notebook import tqdm\n",
    "from folium import Marker, FeatureGroup\n",
    "from folium.plugins import MarkerCluster, FeatureGroupSubGroup, Search\n",
    "\n",
    "import matplotlib.pyplot as plt\n",
    "import matplotlib.dates as mdates\n",
    "from matplotlib.dates import DateFormatter\n",
    "import seaborn as sns\n",
    "\n",
    "#coding:utf-8\n",
    "plt.rcParams['font.sans-serif']=['SimHei'] #用来正常显示中文标签\n",
    "plt.rcParams['font.family']='sans-serif'\n",
    "plt.rcParams['axes.unicode_minus']=False #用来正常显示负号"
   ]
  },
  {
   "cell_type": "code",
   "execution_count": 5,
   "metadata": {},
   "outputs": [
    {
     "name": "stdout",
     "output_type": "stream",
     "text": [
      "Current working directory: c:\\Users\\johnn\\Documents\\Research\\codebook\\covid\n",
      "Current working directory: c:\\Users\\johnn\\Documents\\Research\\codebook\\covid\n"
     ]
    }
   ],
   "source": [
    "# get the current working directory\n",
    "cwd = os.getcwd()\n",
    "\n",
    "# print the current working directory\n",
    "print(f\"Current working directory: {cwd}\")\n",
    "\n",
    "path = '/Users/johnn/Documents/Research/codebook/covid/'\n",
    "os.chdir(path)\n",
    "\n",
    "# get the current working directory\n",
    "cwd = os.getcwd()\n",
    "# print the current working directory\n",
    "print(f\"Current working directory: {cwd}\")\n"
   ]
  },
  {
   "cell_type": "code",
   "execution_count": 6,
   "metadata": {},
   "outputs": [],
   "source": [
    "# define global parameters for web scrapping.\n",
    "headers = {'user-agent':'Mozilla/5.0 (Macintosh; Intel Mac OS X 10_15_7) AppleWebKit/537.36 (KHTML, like Gecko) Chrome/99.0.4844.84 Safari/537.36'}"
   ]
  },
  {
   "cell_type": "code",
   "execution_count": 11,
   "metadata": {},
   "outputs": [],
   "source": [
    "def get_link(page):\n",
    "    df_link = pd.DataFrame()\n",
    "    link = []\n",
    "    title = []\n",
    "    url = 'https://ss.shanghai.gov.cn/service/wsjkw/search'\n",
    "    key = '新增本土新冠肺炎'\n",
    "    params = {\"q\": key, 'all':1, 'page': page, 'siteId':'wsjkw.sh.gov.cn', 'siteArea':'all'}\n",
    "    results = requests.get(url, params=params, timeout=30, headers=headers)\n",
    "    results.encoding = 'utf-8'\n",
    "    soup = BeautifulSoup(results.text, 'lxml')\n",
    "    for x in soup.find_all(class_ = 'result'):\n",
    "        title.append(x.find('a').get('title'))\n",
    "        link.append(x.find(class_='url').find('a').get('href'))\n",
    "\n",
    "    df_link['link'] = link\n",
    "    df_link['title'] = title\n",
    "\n",
    "    return df_link"
   ]
  },
  {
   "cell_type": "code",
   "execution_count": 393,
   "metadata": {},
   "outputs": [
    {
     "data": {
      "application/vnd.jupyter.widget-view+json": {
       "model_id": "0cadde64c3a6417397f54b46677bf31f",
       "version_major": 2,
       "version_minor": 0
      },
      "text/plain": [
       "  0%|          | 0/4 [00:00<?, ?it/s]"
      ]
     },
     "metadata": {},
     "output_type": "display_data"
    },
    {
     "data": {
      "application/vnd.jupyter.widget-view+json": {
       "model_id": "839c722311374899a7ac7ad054de604e",
       "version_major": 2,
       "version_minor": 0
      },
      "text/plain": [
       "  0%|          | 0/80 [00:00<?, ?it/s]"
      ]
     },
     "metadata": {},
     "output_type": "display_data"
    }
   ],
   "source": [
    "df_link = pd.DataFrame()\n",
    "num_pages = 4\n",
    "for page in tqdm(range(num_pages)):\n",
    "    df_link = df_link.append(get_link(page+1), ignore_index=True)\n",
    "\n",
    "# clean date\n",
    "date = []\n",
    "for idx, row in tqdm(df_link.iterrows(), total=df_link.shape[0]):\n",
    "    date_ = re.findall('(?:\\d+年)?(\\d+月\\d+日)', row['title'])    \n",
    "    if date_:\n",
    "        date.append('2022年' + date_[0])\n",
    "    else:\n",
    "        date.append('2022年3月28日')\n",
    "\n",
    "df_link['date'] = pd.to_datetime(date, format='%Y年%m月%d日')\n",
    "df_link.sort_values(by='date', inplace=True)\n",
    "df_link.reset_index(inplace=True,drop=True)"
   ]
  },
  {
   "cell_type": "code",
   "execution_count": 418,
   "metadata": {},
   "outputs": [],
   "source": [
    "def parse_report(link):\n",
    "    # define regex\n",
    "    regex = '(?:病例|无症状感染者)(\\d+)(?:\\、|\\—)?(?:病例|无症状感染者)?(\\d*)' \n",
    "    \n",
    "    r = requests.get(link, headers=headers)\n",
    "    r.encoding = 'utf-8'\n",
    "    soup = BeautifulSoup(r.text, 'lxml')\n",
    "    # find article content\n",
    "    article = soup.find(class_=\"Article_content\")\n",
    "    \n",
    "    # create flags\n",
    "    need_date_flag = True\n",
    "    previous_context = ''\n",
    "\n",
    "    # different case types\n",
    "    case_types = ['风险人群筛查中', \n",
    "                  '本市闭环隔离管控人员', '密切接触者', '系外省返沪协查人员核酸筛查异常',\n",
    "                  '此前报告的本土无症状感染者']\n",
    "    # different positive case types\n",
    "    positive_case_types = ['病例', '无症状感染者']\n",
    "    # create empty df\n",
    "    df = pd.DataFrame()\n",
    "    for child in article.children:\n",
    "        # find date\n",
    "        if need_date_flag:\n",
    "            capture_date = re.search('\\d+年\\d+月\\d+日', child.text)\n",
    "            if capture_date:\n",
    "                date = pd.to_datetime(capture_date.group(0), format=\"%Y年%m月%d日\")\n",
    "                need_date_flag = False\n",
    "                continue\n",
    "        \n",
    "        # find the content\n",
    "        need_continue_flag = not bool(re.search(\"[\\。\\）]$\", child.text))\n",
    "        article_flag = '居住于' in child.text\n",
    "        if article_flag & need_continue_flag:\n",
    "            previous_context += child.text\n",
    "            continue\n",
    "        elif article_flag & ~need_continue_flag:\n",
    "            context = previous_context + child.text\n",
    "            district_ = re.findall('(?:居住于[\\，|\\\"]?)?([\\u4E00-\\u9FA5]+区|来沪求职)(?:[\\u4E00-\\u9FA5\\da-zA-Z]*)(?=\\，|\\s)', context)\n",
    "            #district_ = re.findall(\"(?:居住于)(?:\\，)?([\\u4E00-\\u9FA5]+)(?=\\，)\", context)\n",
    "            cases_ = re.findall(regex, context)\n",
    "            try:\n",
    "                assert len(cases_) == len(district_)\n",
    "            except:\n",
    "                print(\"Different length of case number and districts\")\n",
    "                print(context)\n",
    "                print('date: {}'.format(date.strftime(format='%Y-%m-%d')))\n",
    "                print(\"The length of case: {}\".format(len(cases_)))\n",
    "                print(\"The length of district: {}\".format((district_)))\n",
    "            cases_number = [int(case[1]) - int(case[0]) + 1 if case[1] else 1 for case in cases_]\n",
    "            \n",
    "            # define the case type\n",
    "            if case_types[0] in context:\n",
    "                case_type_ = 'A'\n",
    "            elif case_types[1] in context:\n",
    "                case_type_ = 'B'\n",
    "            elif case_types[2] in context:\n",
    "                case_type_ = 'B'\n",
    "            elif case_types[3] in context:\n",
    "                case_type_ = 'B'\n",
    "            elif case_types[4] in context:\n",
    "                case_type_ = 'C'\n",
    "            else:\n",
    "                case_type_ = None\n",
    "            \n",
    "            # define the positive case type\n",
    "            if positive_case_types[0] in context:\n",
    "                positive_case_type_ = 'positive'\n",
    "            elif positive_case_types[1] in context:\n",
    "                positive_case_type_ = 'asym'\n",
    "            else:\n",
    "                positive_case_type_ = None \n",
    "\n",
    "            # reset previous context\n",
    "            previous_context = ''\n",
    "\n",
    "            df_ = pd.DataFrame({'cases':cases_, \n",
    "                                'district':district_, \n",
    "                                'cases_number': cases_number})\n",
    "            df_['case_type'] = case_type_\n",
    "            df_['positive_case_type'] = positive_case_type_\n",
    "        else:\n",
    "            continue \n",
    "        \n",
    "        # append the dataframe\n",
    "        df = df.append(df_, ignore_index=True)\n",
    "        df['date'] = date\n",
    "    \n",
    "    return df\n",
    "\n",
    "    "
   ]
  },
  {
   "cell_type": "code",
   "execution_count": 419,
   "metadata": {},
   "outputs": [
    {
     "data": {
      "application/vnd.jupyter.widget-view+json": {
       "model_id": "e46096563e664e1da19396d9a8570d08",
       "version_major": 2,
       "version_minor": 0
      },
      "text/plain": [
       "  0%|          | 0/43 [00:00<?, ?it/s]"
      ]
     },
     "metadata": {},
     "output_type": "display_data"
    }
   ],
   "source": [
    "mask = df_link['date'] > pd.to_datetime('2022-03-13')\n",
    "df_link_subset = df_link.loc[mask, :]\n",
    "df = pd.DataFrame()\n",
    "for idx, row in tqdm(df_link_subset.iterrows(), total=df_link_subset.shape[0]):\n",
    "    df = df.append(parse_report(row['link']), ignore_index=True)"
   ]
  },
  {
   "cell_type": "code",
   "execution_count": 425,
   "metadata": {},
   "outputs": [],
   "source": [
    "df_table = pd.pivot_table(data=df, values='cases_number', \n",
    "                          index=['positive_case_type', 'date', 'district'], columns='case_type', \n",
    "                          fill_value=0, aggfunc='sum')"
   ]
  },
  {
   "cell_type": "code",
   "execution_count": 483,
   "metadata": {},
   "outputs": [],
   "source": [
    "df_table_pct = df_table.div(df_table.sum(axis=1), axis=0)"
   ]
  },
  {
   "cell_type": "code",
   "execution_count": 491,
   "metadata": {},
   "outputs": [
    {
     "data": {
      "text/plain": [
       "MultiIndex([(    'asym', '2022-03-14',  '嘉定区'),\n",
       "            (    'asym', '2022-03-14',  '奉贤区'),\n",
       "            (    'asym', '2022-03-14',  '宝山区'),\n",
       "            (    'asym', '2022-03-14',  '徐汇区'),\n",
       "            (    'asym', '2022-03-14',  '杨浦区'),\n",
       "            (    'asym', '2022-03-14', '浦东新区'),\n",
       "            (    'asym', '2022-03-14',  '虹口区'),\n",
       "            (    'asym', '2022-03-14',  '金山区'),\n",
       "            (    'asym', '2022-03-14',  '闵行区'),\n",
       "            (    'asym', '2022-03-14',  '静安区'),\n",
       "            ...\n",
       "            ('positive', '2022-04-25',  '普陀区'),\n",
       "            ('positive', '2022-04-25',  '杨浦区'),\n",
       "            ('positive', '2022-04-25',  '松江区'),\n",
       "            ('positive', '2022-04-25', '浦东新区'),\n",
       "            ('positive', '2022-04-25',  '虹口区'),\n",
       "            ('positive', '2022-04-25',  '长宁区'),\n",
       "            ('positive', '2022-04-25',  '闵行区'),\n",
       "            ('positive', '2022-04-25',  '青浦区'),\n",
       "            ('positive', '2022-04-25',  '静安区'),\n",
       "            ('positive', '2022-04-25',  '黄浦区')],\n",
       "           names=['positive_case_type', 'date', 'district'], length=1221)"
      ]
     },
     "execution_count": 491,
     "metadata": {},
     "output_type": "execute_result"
    }
   ],
   "source": [
    "df_table_pct.index"
   ]
  },
  {
   "cell_type": "code",
   "execution_count": 515,
   "metadata": {},
   "outputs": [
    {
     "name": "stderr",
     "output_type": "stream",
     "text": [
      "C:\\Users\\johnn\\Anaconda3\\envs\\pymc_env\\lib\\site-packages\\pandas\\core\\indexing.py:925: PerformanceWarning: indexing past lexsort depth may impact performance.\n",
      "  return self._getitem_tuple(key)\n"
     ]
    },
    {
     "data": {
      "text/plain": [
       "<matplotlib.legend.Legend at 0x253b84834f0>"
      ]
     },
     "execution_count": 515,
     "metadata": {},
     "output_type": "execute_result"
    },
    {
     "name": "stderr",
     "output_type": "stream",
     "text": [
      "C:\\Users\\johnn\\Anaconda3\\envs\\pymc_env\\lib\\site-packages\\IPython\\core\\pylabtools.py:151: UserWarning: Glyph 28006 (\\N{CJK UNIFIED IDEOGRAPH-6D66}) missing from current font.\n",
      "  fig.canvas.print_figure(bytes_io, **kw)\n",
      "C:\\Users\\johnn\\Anaconda3\\envs\\pymc_env\\lib\\site-packages\\IPython\\core\\pylabtools.py:151: UserWarning: Glyph 19996 (\\N{CJK UNIFIED IDEOGRAPH-4E1C}) missing from current font.\n",
      "  fig.canvas.print_figure(bytes_io, **kw)\n",
      "C:\\Users\\johnn\\Anaconda3\\envs\\pymc_env\\lib\\site-packages\\IPython\\core\\pylabtools.py:151: UserWarning: Glyph 26032 (\\N{CJK UNIFIED IDEOGRAPH-65B0}) missing from current font.\n",
      "  fig.canvas.print_figure(bytes_io, **kw)\n",
      "C:\\Users\\johnn\\Anaconda3\\envs\\pymc_env\\lib\\site-packages\\IPython\\core\\pylabtools.py:151: UserWarning: Glyph 21306 (\\N{CJK UNIFIED IDEOGRAPH-533A}) missing from current font.\n",
      "  fig.canvas.print_figure(bytes_io, **kw)\n"
     ]
    },
    {
     "data": {
      "image/png": "[encoded data removed]",
      "text/plain": [
       "<Figure size 1440x1440 with 1 Axes>"
      ]
     },
     "metadata": {},
     "output_type": "display_data"
    }
   ],
   "source": [
    "idx = pd.IndexSlice\n",
    "positive_case_type = 'positive'\n",
    "district_selected = '浦东新区'\n",
    "sns.set(font_scale=1.5, style=\"whitegrid\")\n",
    "fig, ax = plt.subplots()\n",
    "df_table_pct.reset_index(level=1).loc[idx[positive_case_type, \"浦东新区\"], :].plot(kind='bar', x = 'date', stacked=True, \n",
    "                                                                title='{0} case in {1}'.format(positive_case_type.capitalize(), district_selected),\n",
    "                                                                mark_right=True,figsize=(20, 20), ax=ax)\n",
    "date_form = DateFormatter(\"%m-%d\")\n",
    "ax.xaxis.set_major_formatter(date_form)\n",
    "plt.xlabel('Date')\n",
    "plt.ylabel('Percentage')\n",
    "plt.legend(loc='best', labels=['Risk', 'Monitered', 'Aysmptomic'])"
   ]
  },
  {
   "cell_type": "code",
   "execution_count": 433,
   "metadata": {},
   "outputs": [],
   "source": [
    "df_table_all = df_table.groupby(level=[0, 1]).sum()"
   ]
  },
  {
   "cell_type": "code",
   "execution_count": 434,
   "metadata": {},
   "outputs": [
    {
     "data": {
      "text/plain": [
       "MultiIndex([(    'asym', '2022-03-14'),\n",
       "            (    'asym', '2022-03-15'),\n",
       "            (    'asym', '2022-03-16'),\n",
       "            (    'asym', '2022-03-17'),\n",
       "            (    'asym', '2022-03-18'),\n",
       "            (    'asym', '2022-03-19'),\n",
       "            (    'asym', '2022-03-20'),\n",
       "            (    'asym', '2022-03-21'),\n",
       "            (    'asym', '2022-03-22'),\n",
       "            (    'asym', '2022-03-23'),\n",
       "            (    'asym', '2022-03-24'),\n",
       "            (    'asym', '2022-03-25'),\n",
       "            (    'asym', '2022-03-26'),\n",
       "            (    'asym', '2022-03-27'),\n",
       "            (    'asym', '2022-03-29'),\n",
       "            (    'asym', '2022-03-30'),\n",
       "            (    'asym', '2022-03-31'),\n",
       "            (    'asym', '2022-04-01'),\n",
       "            (    'asym', '2022-04-02'),\n",
       "            (    'asym', '2022-04-03'),\n",
       "            (    'asym', '2022-04-04'),\n",
       "            (    'asym', '2022-04-05'),\n",
       "            (    'asym', '2022-04-06'),\n",
       "            (    'asym', '2022-04-07'),\n",
       "            (    'asym', '2022-04-08'),\n",
       "            (    'asym', '2022-04-09'),\n",
       "            (    'asym', '2022-04-10'),\n",
       "            (    'asym', '2022-04-11'),\n",
       "            (    'asym', '2022-04-12'),\n",
       "            (    'asym', '2022-04-13'),\n",
       "            (    'asym', '2022-04-14'),\n",
       "            (    'asym', '2022-04-15'),\n",
       "            (    'asym', '2022-04-16'),\n",
       "            (    'asym', '2022-04-17'),\n",
       "            (    'asym', '2022-04-18'),\n",
       "            (    'asym', '2022-04-19'),\n",
       "            (    'asym', '2022-04-20'),\n",
       "            (    'asym', '2022-04-21'),\n",
       "            (    'asym', '2022-04-22'),\n",
       "            (    'asym', '2022-04-23'),\n",
       "            (    'asym', '2022-04-24'),\n",
       "            (    'asym', '2022-04-25'),\n",
       "            ('positive', '2022-03-14'),\n",
       "            ('positive', '2022-03-15'),\n",
       "            ('positive', '2022-03-16'),\n",
       "            ('positive', '2022-03-17'),\n",
       "            ('positive', '2022-03-18'),\n",
       "            ('positive', '2022-03-19'),\n",
       "            ('positive', '2022-03-20'),\n",
       "            ('positive', '2022-03-21'),\n",
       "            ('positive', '2022-03-22'),\n",
       "            ('positive', '2022-03-23'),\n",
       "            ('positive', '2022-03-24'),\n",
       "            ('positive', '2022-03-25'),\n",
       "            ('positive', '2022-03-26'),\n",
       "            ('positive', '2022-03-27'),\n",
       "            ('positive', '2022-03-29'),\n",
       "            ('positive', '2022-03-30'),\n",
       "            ('positive', '2022-03-31'),\n",
       "            ('positive', '2022-04-01'),\n",
       "            ('positive', '2022-04-02'),\n",
       "            ('positive', '2022-04-03'),\n",
       "            ('positive', '2022-04-04'),\n",
       "            ('positive', '2022-04-05'),\n",
       "            ('positive', '2022-04-06'),\n",
       "            ('positive', '2022-04-07'),\n",
       "            ('positive', '2022-04-08'),\n",
       "            ('positive', '2022-04-09'),\n",
       "            ('positive', '2022-04-10'),\n",
       "            ('positive', '2022-04-11'),\n",
       "            ('positive', '2022-04-12'),\n",
       "            ('positive', '2022-04-13'),\n",
       "            ('positive', '2022-04-14'),\n",
       "            ('positive', '2022-04-15'),\n",
       "            ('positive', '2022-04-16'),\n",
       "            ('positive', '2022-04-17'),\n",
       "            ('positive', '2022-04-18'),\n",
       "            ('positive', '2022-04-19'),\n",
       "            ('positive', '2022-04-20'),\n",
       "            ('positive', '2022-04-21'),\n",
       "            ('positive', '2022-04-22'),\n",
       "            ('positive', '2022-04-23'),\n",
       "            ('positive', '2022-04-24'),\n",
       "            ('positive', '2022-04-25')],\n",
       "           names=['positive_case_type', 'date'])"
      ]
     },
     "execution_count": 434,
     "metadata": {},
     "output_type": "execute_result"
    }
   ],
   "source": [
    "df_table_all.index"
   ]
  },
  {
   "cell_type": "code",
   "execution_count": 480,
   "metadata": {},
   "outputs": [
    {
     "ename": "AxisError",
     "evalue": "axis 1 is out of bounds for array of dimension 1",
     "output_type": "error",
     "traceback": [
      "\u001b[1;31m---------------------------------------------------------------------------\u001b[0m",
      "\u001b[1;31mAxisError\u001b[0m                                 Traceback (most recent call last)",
      "\u001b[1;32mc:\\Users\\johnn\\Documents\\Research\\codebook\\covid\\shanghai_covid_total_number.ipynb Cell 12'\u001b[0m in \u001b[0;36m<cell line: 1>\u001b[1;34m()\u001b[0m\n\u001b[1;32m----> <a href='vscode-notebook-cell:/c%3A/Users/johnn/Documents/Research/codebook/covid/shanghai_covid_total_number.ipynb#ch0000054?line=0'>1</a>\u001b[0m np\u001b[39m.\u001b[39;49mrepeat(df_table_all\u001b[39m.\u001b[39;49msum(axis\u001b[39m=\u001b[39;49m\u001b[39m1\u001b[39;49m)\u001b[39m.\u001b[39;49mvalues, \u001b[39m3\u001b[39;49m, axis\u001b[39m=\u001b[39;49m\u001b[39m1\u001b[39;49m)\u001b[39m.\u001b[39mshape\n",
      "File \u001b[1;32m<__array_function__ internals>:5\u001b[0m, in \u001b[0;36mrepeat\u001b[1;34m(*args, **kwargs)\u001b[0m\n",
      "File \u001b[1;32m~\\Anaconda3\\envs\\pymc_env\\lib\\site-packages\\numpy\\core\\fromnumeric.py:480\u001b[0m, in \u001b[0;36mrepeat\u001b[1;34m(a, repeats, axis)\u001b[0m\n\u001b[0;32m    <a href='file:///c%3A/Users/johnn/Anaconda3/envs/pymc_env/lib/site-packages/numpy/core/fromnumeric.py?line=436'>437</a>\u001b[0m \u001b[39m@array_function_dispatch\u001b[39m(_repeat_dispatcher)\n\u001b[0;32m    <a href='file:///c%3A/Users/johnn/Anaconda3/envs/pymc_env/lib/site-packages/numpy/core/fromnumeric.py?line=437'>438</a>\u001b[0m \u001b[39mdef\u001b[39;00m \u001b[39mrepeat\u001b[39m(a, repeats, axis\u001b[39m=\u001b[39m\u001b[39mNone\u001b[39;00m):\n\u001b[0;32m    <a href='file:///c%3A/Users/johnn/Anaconda3/envs/pymc_env/lib/site-packages/numpy/core/fromnumeric.py?line=438'>439</a>\u001b[0m     \u001b[39m\"\"\"\u001b[39;00m\n\u001b[0;32m    <a href='file:///c%3A/Users/johnn/Anaconda3/envs/pymc_env/lib/site-packages/numpy/core/fromnumeric.py?line=439'>440</a>\u001b[0m \u001b[39m    Repeat elements of an array.\u001b[39;00m\n\u001b[0;32m    <a href='file:///c%3A/Users/johnn/Anaconda3/envs/pymc_env/lib/site-packages/numpy/core/fromnumeric.py?line=440'>441</a>\u001b[0m \n\u001b[1;32m   (...)\u001b[0m\n\u001b[0;32m    <a href='file:///c%3A/Users/johnn/Anaconda3/envs/pymc_env/lib/site-packages/numpy/core/fromnumeric.py?line=477'>478</a>\u001b[0m \n\u001b[0;32m    <a href='file:///c%3A/Users/johnn/Anaconda3/envs/pymc_env/lib/site-packages/numpy/core/fromnumeric.py?line=478'>479</a>\u001b[0m \u001b[39m    \"\"\"\u001b[39;00m\n\u001b[1;32m--> <a href='file:///c%3A/Users/johnn/Anaconda3/envs/pymc_env/lib/site-packages/numpy/core/fromnumeric.py?line=479'>480</a>\u001b[0m     \u001b[39mreturn\u001b[39;00m _wrapfunc(a, \u001b[39m'\u001b[39;49m\u001b[39mrepeat\u001b[39;49m\u001b[39m'\u001b[39;49m, repeats, axis\u001b[39m=\u001b[39;49maxis)\n",
      "File \u001b[1;32m~\\Anaconda3\\envs\\pymc_env\\lib\\site-packages\\numpy\\core\\fromnumeric.py:58\u001b[0m, in \u001b[0;36m_wrapfunc\u001b[1;34m(obj, method, *args, **kwds)\u001b[0m\n\u001b[0;32m     <a href='file:///c%3A/Users/johnn/Anaconda3/envs/pymc_env/lib/site-packages/numpy/core/fromnumeric.py?line=54'>55</a>\u001b[0m     \u001b[39mreturn\u001b[39;00m _wrapit(obj, method, \u001b[39m*\u001b[39margs, \u001b[39m*\u001b[39m\u001b[39m*\u001b[39mkwds)\n\u001b[0;32m     <a href='file:///c%3A/Users/johnn/Anaconda3/envs/pymc_env/lib/site-packages/numpy/core/fromnumeric.py?line=56'>57</a>\u001b[0m \u001b[39mtry\u001b[39;00m:\n\u001b[1;32m---> <a href='file:///c%3A/Users/johnn/Anaconda3/envs/pymc_env/lib/site-packages/numpy/core/fromnumeric.py?line=57'>58</a>\u001b[0m     \u001b[39mreturn\u001b[39;00m bound(\u001b[39m*\u001b[39margs, \u001b[39m*\u001b[39m\u001b[39m*\u001b[39mkwds)\n\u001b[0;32m     <a href='file:///c%3A/Users/johnn/Anaconda3/envs/pymc_env/lib/site-packages/numpy/core/fromnumeric.py?line=58'>59</a>\u001b[0m \u001b[39mexcept\u001b[39;00m \u001b[39mTypeError\u001b[39;00m:\n\u001b[0;32m     <a href='file:///c%3A/Users/johnn/Anaconda3/envs/pymc_env/lib/site-packages/numpy/core/fromnumeric.py?line=59'>60</a>\u001b[0m     \u001b[39m# A TypeError occurs if the object does have such a method in its\u001b[39;00m\n\u001b[0;32m     <a href='file:///c%3A/Users/johnn/Anaconda3/envs/pymc_env/lib/site-packages/numpy/core/fromnumeric.py?line=60'>61</a>\u001b[0m     \u001b[39m# class, but its signature is not identical to that of NumPy's. This\u001b[39;00m\n\u001b[1;32m   (...)\u001b[0m\n\u001b[0;32m     <a href='file:///c%3A/Users/johnn/Anaconda3/envs/pymc_env/lib/site-packages/numpy/core/fromnumeric.py?line=64'>65</a>\u001b[0m     \u001b[39m# Call _wrapit from within the except clause to ensure a potential\u001b[39;00m\n\u001b[0;32m     <a href='file:///c%3A/Users/johnn/Anaconda3/envs/pymc_env/lib/site-packages/numpy/core/fromnumeric.py?line=65'>66</a>\u001b[0m     \u001b[39m# exception has a traceback chain.\u001b[39;00m\n\u001b[0;32m     <a href='file:///c%3A/Users/johnn/Anaconda3/envs/pymc_env/lib/site-packages/numpy/core/fromnumeric.py?line=66'>67</a>\u001b[0m     \u001b[39mreturn\u001b[39;00m _wrapit(obj, method, \u001b[39m*\u001b[39margs, \u001b[39m*\u001b[39m\u001b[39m*\u001b[39mkwds)\n",
      "\u001b[1;31mAxisError\u001b[0m: axis 1 is out of bounds for array of dimension 1"
     ]
    }
   ],
   "source": [
    "np.repeat(df_table_all.sum(axis=1).values, 3, axis=1).shape"
   ]
  },
  {
   "cell_type": "code",
   "execution_count": 482,
   "metadata": {},
   "outputs": [
    {
     "data": {
      "text/html": [
       "<div>\n",
       "<style scoped>\n",
       "    .dataframe tbody tr th:only-of-type {\n",
       "        vertical-align: middle;\n",
       "    }\n",
       "\n",
       "    .dataframe tbody tr th {\n",
       "        vertical-align: top;\n",
       "    }\n",
       "\n",
       "    .dataframe thead th {\n",
       "        text-align: right;\n",
       "    }\n",
       "</style>\n",
       "<table border=\"1\" class=\"dataframe\">\n",
       "  <thead>\n",
       "    <tr style=\"text-align: right;\">\n",
       "      <th></th>\n",
       "      <th>case_type</th>\n",
       "      <th>A</th>\n",
       "      <th>B</th>\n",
       "      <th>C</th>\n",
       "    </tr>\n",
       "    <tr>\n",
       "      <th>positive_case_type</th>\n",
       "      <th>date</th>\n",
       "      <th></th>\n",
       "      <th></th>\n",
       "      <th></th>\n",
       "    </tr>\n",
       "  </thead>\n",
       "  <tbody>\n",
       "    <tr>\n",
       "      <th rowspan=\"5\" valign=\"top\">asym</th>\n",
       "      <th>2022-03-14</th>\n",
       "      <td>1.000000</td>\n",
       "      <td>0.000000</td>\n",
       "      <td>0.000000</td>\n",
       "    </tr>\n",
       "    <tr>\n",
       "      <th>2022-03-15</th>\n",
       "      <td>1.000000</td>\n",
       "      <td>0.000000</td>\n",
       "      <td>0.000000</td>\n",
       "    </tr>\n",
       "    <tr>\n",
       "      <th>2022-03-16</th>\n",
       "      <td>0.909091</td>\n",
       "      <td>0.090909</td>\n",
       "      <td>0.000000</td>\n",
       "    </tr>\n",
       "    <tr>\n",
       "      <th>2022-03-17</th>\n",
       "      <td>1.000000</td>\n",
       "      <td>0.000000</td>\n",
       "      <td>0.000000</td>\n",
       "    </tr>\n",
       "    <tr>\n",
       "      <th>2022-03-18</th>\n",
       "      <td>1.000000</td>\n",
       "      <td>0.000000</td>\n",
       "      <td>0.000000</td>\n",
       "    </tr>\n",
       "    <tr>\n",
       "      <th>...</th>\n",
       "      <th>...</th>\n",
       "      <td>...</td>\n",
       "      <td>...</td>\n",
       "      <td>...</td>\n",
       "    </tr>\n",
       "    <tr>\n",
       "      <th rowspan=\"5\" valign=\"top\">positive</th>\n",
       "      <th>2022-04-21</th>\n",
       "      <td>0.053340</td>\n",
       "      <td>0.872605</td>\n",
       "      <td>0.074055</td>\n",
       "    </tr>\n",
       "    <tr>\n",
       "      <th>2022-04-22</th>\n",
       "      <td>0.027047</td>\n",
       "      <td>0.563596</td>\n",
       "      <td>0.409357</td>\n",
       "    </tr>\n",
       "    <tr>\n",
       "      <th>2022-04-23</th>\n",
       "      <td>0.031406</td>\n",
       "      <td>0.582441</td>\n",
       "      <td>0.386153</td>\n",
       "    </tr>\n",
       "    <tr>\n",
       "      <th>2022-04-24</th>\n",
       "      <td>0.027913</td>\n",
       "      <td>0.629854</td>\n",
       "      <td>0.342233</td>\n",
       "    </tr>\n",
       "    <tr>\n",
       "      <th>2022-04-25</th>\n",
       "      <td>0.010837</td>\n",
       "      <td>0.406382</td>\n",
       "      <td>0.582781</td>\n",
       "    </tr>\n",
       "  </tbody>\n",
       "</table>\n",
       "<p>84 rows × 3 columns</p>\n",
       "</div>"
      ],
      "text/plain": [
       "case_type                             A         B         C\n",
       "positive_case_type date                                    \n",
       "asym               2022-03-14  1.000000  0.000000  0.000000\n",
       "                   2022-03-15  1.000000  0.000000  0.000000\n",
       "                   2022-03-16  0.909091  0.090909  0.000000\n",
       "                   2022-03-17  1.000000  0.000000  0.000000\n",
       "                   2022-03-18  1.000000  0.000000  0.000000\n",
       "...                                 ...       ...       ...\n",
       "positive           2022-04-21  0.053340  0.872605  0.074055\n",
       "                   2022-04-22  0.027047  0.563596  0.409357\n",
       "                   2022-04-23  0.031406  0.582441  0.386153\n",
       "                   2022-04-24  0.027913  0.629854  0.342233\n",
       "                   2022-04-25  0.010837  0.406382  0.582781\n",
       "\n",
       "[84 rows x 3 columns]"
      ]
     },
     "execution_count": 482,
     "metadata": {},
     "output_type": "execute_result"
    }
   ],
   "source": [
    "df_table_all.div(df_table_all.sum(axis=1), axis=0)"
   ]
  },
  {
   "cell_type": "code",
   "execution_count": 453,
   "metadata": {},
   "outputs": [],
   "source": [
    "df_table_all_pct = df_table_all.div(df_table_all.sum(axis=1), axis=0)"
   ]
  },
  {
   "cell_type": "code",
   "execution_count": 458,
   "metadata": {},
   "outputs": [
    {
     "data": {
      "text/html": [
       "<div>\n",
       "<style scoped>\n",
       "    .dataframe tbody tr th:only-of-type {\n",
       "        vertical-align: middle;\n",
       "    }\n",
       "\n",
       "    .dataframe tbody tr th {\n",
       "        vertical-align: top;\n",
       "    }\n",
       "\n",
       "    .dataframe thead th {\n",
       "        text-align: right;\n",
       "    }\n",
       "</style>\n",
       "<table border=\"1\" class=\"dataframe\">\n",
       "  <thead>\n",
       "    <tr style=\"text-align: right;\">\n",
       "      <th></th>\n",
       "      <th>case_type</th>\n",
       "      <th>A</th>\n",
       "      <th>B</th>\n",
       "      <th>C</th>\n",
       "    </tr>\n",
       "    <tr>\n",
       "      <th>positive_case_type</th>\n",
       "      <th>date</th>\n",
       "      <th></th>\n",
       "      <th></th>\n",
       "      <th></th>\n",
       "    </tr>\n",
       "  </thead>\n",
       "  <tbody>\n",
       "    <tr>\n",
       "      <th>positive</th>\n",
       "      <th>2022-03-16</th>\n",
       "      <td>0.071429</td>\n",
       "      <td>0.914286</td>\n",
       "      <td>0.014286</td>\n",
       "    </tr>\n",
       "  </tbody>\n",
       "</table>\n",
       "</div>"
      ],
      "text/plain": [
       "case_type                             A         B         C\n",
       "positive_case_type date                                    \n",
       "positive           2022-03-16  0.071429  0.914286  0.014286"
      ]
     },
     "execution_count": 458,
     "metadata": {},
     "output_type": "execute_result"
    }
   ],
   "source": [
    "df_table_all_pct[df_table_all_pct.sum(axis=1).values != 1.0]"
   ]
  },
  {
   "cell_type": "code",
   "execution_count": null,
   "metadata": {},
   "outputs": [],
   "source": []
  }
 ],
 "metadata": {
  "interpreter": {
   "hash": "5146e8405fd5aedb249a2643c4bcc4d8285c14d7a6950b3dfeed5f6b36743b16"
  },
  "kernelspec": {
   "display_name": "Python 3.9.9 ('pymc_env')",
   "language": "python",
   "name": "python3"
  },
  "language_info": {
   "codemirror_mode": {
    "name": "ipython",
    "version": 3
   },
   "file_extension": ".py",
   "mimetype": "text/x-python",
   "name": "python",
   "nbconvert_exporter": "python",
   "pygments_lexer": "ipython3",
   "version": "3.9.9"
  },
  "orig_nbformat": 4
 },
 "nbformat": 4,
 "nbformat_minor": 2
}
